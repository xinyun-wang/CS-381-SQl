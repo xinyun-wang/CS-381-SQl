{
    "metadata": {
        "kernelspec": {
            "name": "SQL",
            "display_name": "SQL",
            "language": "sql"
        },
        "language_info": {
            "name": "sql",
            "version": ""
        }
    },
    "nbformat_minor": 2,
    "nbformat": 4,
    "cells": [
        {
            "cell_type": "markdown",
            "source": [
                "-------------------------------------------------------------------"
            ],
            "metadata": {
                "azdata_cell_guid": "3fb103b4-2838-4f02-bb2c-bcc89a0c6421"
            }
        },
        {
            "cell_type": "markdown",
            "source": [
                "Microsoft SQL Server T-SQL Fundamentals"
            ],
            "metadata": {
                "azdata_cell_guid": "15362429-f957-48a4-a806-f714d2ec9bc6"
            }
        },
        {
            "cell_type": "markdown",
            "source": [
                "Chapter 02 - Single-Table Queries"
            ],
            "metadata": {
                "azdata_cell_guid": "6d22c99d-ef85-456d-a387-75c63bbf1aee"
            }
        },
        {
            "cell_type": "markdown",
            "source": [
                "� Itzik Ben-Gan"
            ],
            "metadata": {
                "azdata_cell_guid": "29abd1db-6685-4e59-bd3b-2399e134f3b1"
            }
        },
        {
            "cell_type": "markdown",
            "source": [
                "-------------------------------------------------------------------"
            ],
            "metadata": {
                "azdata_cell_guid": "be445612-0659-428b-9424-b4c5740da2e3"
            }
        },
        {
            "cell_type": "markdown",
            "source": [
                "-------------------------------------------------------------------"
            ],
            "metadata": {
                "azdata_cell_guid": "d28cac28-5769-49aa-8558-5150140b9c2c"
            }
        },
        {
            "cell_type": "markdown",
            "source": [
                "Elements of the SELECT Statement"
            ],
            "metadata": {
                "azdata_cell_guid": "89e44b15-03b4-40e7-93a4-4f0738b3009b"
            }
        },
        {
            "cell_type": "markdown",
            "source": [
                "-------------------------------------------------------------------"
            ],
            "metadata": {
                "azdata_cell_guid": "eb14f337-7c42-4237-9397-d986092186a3"
            }
        },
        {
            "cell_type": "markdown",
            "source": [
                "Listing 2-1: Sample Query"
            ],
            "metadata": {
                "azdata_cell_guid": "09e4bfb0-5af3-432a-8069-a8edbeee95b4"
            }
        },
        {
            "cell_type": "markdown",
            "source": [
                "\\### Proposition:\n",
                "\n",
                "This query retrieves the <span style=\"color: #a31515;\">`EmployeeId`</span>, the <span style=\"color: #0000ff;\">year</span> of the order (<span style=\"color: #a31515;\">`orderyear`</span>), <span style=\"color: #0000ff;\">and</span> the total <span style=\"color: #0000ff;\">number</span> of orders (<span style=\"color: #a31515;\">`numorders`</span>) made <span style=\"color: #0000ff;\">by</span> <span style=\"color: #000000;\">**</span>Customer <span style=\"color: #09885a;\">71</span><span style=\"color: #000000;\">**</span>. The query filters the records <span style=\"color: #0000ff;\">from</span> the <span style=\"color: #a31515;\">`Sales.[Order]`</span> <span style=\"color: #0000ff;\">table</span> <span style=\"color: #0000ff;\">where</span> the <span style=\"color: #a31515;\">`CustomerId`</span> <span style=\"color: #0000ff;\">is</span> <span style=\"color: #09885a;\">71</span> <span style=\"color: #0000ff;\">and</span> groups the results <span style=\"color: #0000ff;\">by</span> <span style=\"color: #a31515;\">`EmployeeId`</span> <span style=\"color: #0000ff;\">and</span> the <span style=\"color: #795e26;\">year</span> (<span style=\"color: #a31515;\">`YEAR(orderdate)`</span>).\n",
                "\n",
                "  \n",
                "\n",
                "The query only includes the groups <span style=\"color: #0000ff;\">where</span> the <span style=\"color: #0000ff;\">number</span> of orders <span style=\"color: #0000ff;\">is</span> greater than <span style=\"color: #09885a;\">1</span>, <span style=\"color: #0000ff;\">using</span> the <span style=\"color: #a31515;\">`HAVING`</span> clause. The results are <span style=\"color: #0000ff;\">then</span> sorted <span style=\"color: #0000ff;\">first</span> <span style=\"color: #0000ff;\">by</span> <span style=\"color: #a31515;\">`EmployeeId`</span> <span style=\"color: #0000ff;\">and</span> <span style=\"color: #0000ff;\">then</span> <span style=\"color: #0000ff;\">by</span> <span style=\"color: #a31515;\">`orderyear`</span> <span style=\"color: #0000ff;\">in</span> ascending order."
            ],
            "metadata": {
                "language": "",
                "azdata_cell_guid": "496b29b6-f499-480e-bfa7-b8a3d2e8b210"
            },
            "attachments": {}
        },
        {
            "cell_type": "code",
            "source": [
                "USE Northwinds2022TSQLV7;\n",
                "\n",
                "SELECT EmployeeId, YEAR(orderdate) AS orderyear, COUNT(*) AS numorders\n",
                "FROM Sales.[Order]\n",
                "WHERE CustomerId = 71\n",
                "GROUP BY EmployeeId, YEAR(orderdate)\n",
                "HAVING COUNT(*) > 1\n",
                "ORDER BY EmployeeId, orderyear;\n",
                ""
            ],
            "metadata": {
                "language": "sql",
                "azdata_cell_guid": "04c5755a-efa3-4fed-aa27-5bd0670d8e8e",
                "tags": []
            },
            "outputs": [],
            "execution_count": null
        },
        {
            "cell_type": "markdown",
            "source": [
                "\\### Proposition:\n",
                "\n",
                "This query retrieves the <span style=\"color: #a31515;\"><code>orderid</code></span>, <span style=\"color: #a31515;\"><code>CustomerId</code></span>, <span style=\"color: #a31515;\"><code>EmployeeId</code></span>, <span style=\"color: #a31515;\"><code>orderdate</code></span>, <span style=\"color: #0000ff;\">and</span> <span style=\"color: #a31515;\"><code>freight</code></span> <span style=\"color: #0000ff;\">from</span> the <span style=\"color: #a31515;\"><code>Sales.[Order]</code></span> <span style=\"color: #0000ff;\">table</span>. It displays all the available orders <span style=\"color: #0000ff;\">in</span> the <span style=\"color: #0000ff;\">system</span>, showing which customer placed the order, which employee handled it, <span style=\"color: #0000ff;\">when</span> the order was placed (<span style=\"color: #a31515;\"><code>orderdate</code></span>), <span style=\"color: #0000ff;\">and</span> the associated freight cost."
            ],
            "metadata": {
                "language": "sql",
                "azdata_cell_guid": "09a5b475-2cca-4038-841b-f5e7239d5426"
            },
            "attachments": {}
        },
        {
            "cell_type": "code",
            "source": [
                "---------------------------------------------------------------------\n",
                "-- The FROM Clause\n",
                "---------------------------------------------------------------------\n",
                "USE Northwinds2022TSQLV7;\n",
                "\n",
                "SELECT orderid, CustomerId, EmployeeId, orderdate, freight\n",
                "FROM Sales.[Order];\n",
                ""
            ],
            "metadata": {
                "language": "sql",
                "azdata_cell_guid": "cbccce5e-a9a1-42be-b57f-9f4121d34476",
                "tags": []
            },
            "outputs": [],
            "execution_count": null
        },
        {
            "cell_type": "markdown",
            "source": [
                "\\### Proposition:\n",
                "\n",
                "This query retrieves the orderid, EmployeeId, orderdate, <span style=\"color: #0000ff;\">and</span> freight for all orders placed <span style=\"color: #0000ff;\">by</span> Customer <span style=\"color: #09885a;\">71</span> <span style=\"color: #0000ff;\">from</span> the Sales.\\[Order\\] <span style=\"color: #0000ff;\">table</span>. It filters the results <span style=\"color: #0000ff;\">to</span> show only the orders <span style=\"color: #0000ff;\">where</span> the CustomerId <span style=\"color: #0000ff;\">is</span> <span style=\"color: #09885a;\">71</span>."
            ],
            "metadata": {
                "language": "sql",
                "azdata_cell_guid": "5995cd32-9c4d-4cb6-bc8f-740555edf74f"
            },
            "attachments": {}
        },
        {
            "cell_type": "code",
            "source": [
                "\n",
                "---------------------------------------------------------------------\n",
                "-- The WHERE Clause\n",
                "---------------------------------------------------------------------\n",
                "USE Northwinds2022TSQLV7;\n",
                "\n",
                "SELECT orderid, EmployeeId, orderdate, freight\n",
                "FROM Sales.[Order]\n",
                "WHERE CustomerId = 71;\n",
                ""
            ],
            "metadata": {
                "language": "sql",
                "azdata_cell_guid": "ca675752-8d9f-4c8e-9359-7106c8f14894"
            },
            "outputs": [],
            "execution_count": null
        },
        {
            "cell_type": "code",
            "source": [
                "---------------------------------------------------------------------\n",
                "-- The GROUP BY Clause\n",
                "---------------------------------------------------------------------\n",
                "\n",
                "USE Northwinds2022TSQLV7;\n",
                "\n",
                "SELECT EmployeeId, YEAR(orderdate) AS orderyear\n",
                "FROM Sales.[Order]\n",
                "WHERE CustomerId = 71\n",
                "GROUP BY EmployeeId, YEAR(orderdate);\n",
                ""
            ],
            "metadata": {
                "language": "sql",
                "azdata_cell_guid": "48e1c9e0-4097-4c6b-9195-b24a1131c2a1"
            },
            "outputs": [],
            "execution_count": null
        },
        {
            "cell_type": "code",
            "source": [
                "USE Northwinds2022TSQLV7;\n",
                "\n",
                "SELECT\n",
                "  EmployeeId,\n",
                "  YEAR(orderdate) AS orderyear,\n",
                "  SUM(freight) AS totalfreight,\n",
                "  COUNT(*) AS numorders\n",
                "FROM Sales.[Order]\n",
                "WHERE CustomerId = 71\n",
                "GROUP BY EmployeeId, YEAR(orderdate);\n",
                ""
            ],
            "metadata": {
                "language": "sql",
                "azdata_cell_guid": "e5cc116b-f7b9-4cc7-a0a3-a4c13c53388d",
                "tags": []
            },
            "outputs": [],
            "execution_count": null
        },
        {
            "cell_type": "code",
            "source": [
                "/*\n",
                "SELECT empid, YEAR(orderdate) AS orderyear, freight\n",
                "FROM Sales.Orders\n",
                "WHERE custid = 71\n",
                "GROUP BY empid, YEAR(orderdate);\n",
                "*/\n",
                "USE Northwinds2022TSQLV7;\n",
                "\n",
                "\n",
                "SELECT \n",
                "  EmployeeId, \n",
                "  YEAR(orderdate) AS orderyear, \n",
                "  COUNT(DISTINCT CustomerId) AS numcusts\n",
                "FROM Sales.[Order]\n",
                "GROUP BY EmployeeId, YEAR(orderdate);\n",
                ""
            ],
            "metadata": {
                "language": "sql",
                "azdata_cell_guid": "991bcff4-36fc-4b7a-8206-7b9fa0cef7fd"
            },
            "outputs": [],
            "execution_count": null
        },
        {
            "cell_type": "code",
            "source": [
                "---------------------------------------------------------------------\n",
                "-- The HAVING Clause\n",
                "---------------------------------------------------------------------\n",
                "\n",
                "SELECT EmployeeId, YEAR(orderdate) AS orderyear\n",
                "FROM Sales.[Order]\n",
                "WHERE CustomerId = 71\n",
                "GROUP BY EmployeeId, YEAR(orderdate)\n",
                "HAVING COUNT(*) > 1;\n",
                ""
            ],
            "metadata": {
                "language": "sql",
                "azdata_cell_guid": "a65a0459-95a9-48cb-beef-4aaa43b7e582"
            },
            "outputs": [],
            "execution_count": null
        },
        {
            "cell_type": "code",
            "source": [
                "---------------------------------------------------------------------\n",
                "-- The SELECT Clause\n",
                "---------------------------------------------------------------------\n",
                "USE Northwinds2022TSQLV7;\n",
                "\n",
                "\n",
                "SELECT orderid orderdate\n",
                "FROM Sales.[Order];\n",
                ""
            ],
            "metadata": {
                "language": "sql",
                "azdata_cell_guid": "396c2a06-96e2-4a90-9d0d-dd3c9fc6df78"
            },
            "outputs": [],
            "execution_count": null
        },
        {
            "cell_type": "code",
            "source": [
                "USE Northwinds2022TSQLV7;\n",
                "\n",
                "SELECT EmployeeId, YEAR(orderdate) AS orderyear, COUNT(*) AS numorders\n",
                "FROM Sales.[Order]\n",
                "WHERE CustomerId = 71\n",
                "GROUP BY EmployeeId, YEAR(orderdate)\n",
                "HAVING COUNT(*) > 1;\n",
                ""
            ],
            "metadata": {
                "language": "sql",
                "azdata_cell_guid": "8edaea7f-d61b-4d37-81f1-369f0c67e682"
            },
            "outputs": [],
            "execution_count": null
        },
        {
            "cell_type": "code",
            "source": [
                "/*\n",
                "SELECT orderid, YEAR(orderdate) AS orderyear\n",
                "FROM Sales.Orders\n",
                "WHERE orderyear > 2015;\n",
                "*/\n",
                "\n",
                "USE Northwinds2022TSQLV7;\n",
                "\n",
                "SELECT orderid, YEAR(orderdate) AS orderyear\n",
                "FROM Sales.[Order]\n",
                "WHERE YEAR(orderdate) > 2015;\n",
                ""
            ],
            "metadata": {
                "language": "sql",
                "azdata_cell_guid": "211231d7-5b34-46da-87e1-cc14cc5ade27"
            },
            "outputs": [],
            "execution_count": null
        },
        {
            "cell_type": "code",
            "source": [
                "/*\n",
                "SELECT empid, YEAR(orderdate) AS orderyear, COUNT(*) AS numorders\n",
                "FROM Sales.Orders\n",
                "WHERE custid = 71\n",
                "GROUP BY empid, YEAR(orderdate)\n",
                "HAVING numorders > 1;\n",
                "*/\n",
                "\n",
                "USE Northwinds2022TSQLV7;\n",
                "\n",
                "SELECT EmployeeId, YEAR(orderdate) AS orderyear, COUNT(*) AS numorders\n",
                "FROM Sales.[Order]\n",
                "WHERE CustomerId = 71\n",
                "GROUP BY EmployeeId, YEAR(orderdate)\n",
                "HAVING COUNT(*) > 1;\n",
                ""
            ],
            "metadata": {
                "language": "sql",
                "azdata_cell_guid": "d7a4b939-cabd-4e21-a918-02c219086524"
            },
            "outputs": [],
            "execution_count": null
        },
        {
            "cell_type": "code",
            "source": [
                "-- Listing 2-2: Query Returning Duplicate Rows\n",
                "USE Northwinds2022TSQLV7;\n",
                "\n",
                "SELECT EmployeeId, YEAR(orderdate) AS orderyear\n",
                "FROM Sales.[Order]\n",
                "WHERE CustomerId = 71;\n",
                ""
            ],
            "metadata": {
                "language": "sql",
                "azdata_cell_guid": "c5944ccd-9ec3-4e09-8ad8-7cbb42db03b5"
            },
            "outputs": [],
            "execution_count": null
        },
        {
            "cell_type": "code",
            "source": [
                "-- Listing 2-3: Query With a DISTINCT Clause\n",
                "USE Northwinds2022TSQLV7;\n",
                "\n",
                "SELECT DISTINCT EmployeeId, YEAR(orderdate) AS orderyear\n",
                "FROM Sales.[Order]\n",
                "WHERE CustomerId = 71;\n",
                ""
            ],
            "metadata": {
                "language": "sql",
                "azdata_cell_guid": "0a720c83-f980-437d-b2f6-cb8c603d8439"
            },
            "outputs": [],
            "execution_count": null
        },
        {
            "cell_type": "code",
            "source": [
                "USE Northwinds2022TSQLV7;\n",
                "\n",
                "SELECT *\n",
                "FROM Sales.Shipper;\n",
                ""
            ],
            "metadata": {
                "language": "sql",
                "azdata_cell_guid": "562024f7-8fd9-4c45-b4a4-89b651905422"
            },
            "outputs": [],
            "execution_count": null
        },
        {
            "cell_type": "code",
            "source": [
                "/*\n",
                "SELECT orderid,\n",
                "  YEAR(orderdate) AS orderyear,\n",
                "  orderyear + 1 AS nextyear\n",
                "FROM Sales.Orders;\n",
                "*/\n",
                ""
            ],
            "metadata": {
                "language": "sql",
                "azdata_cell_guid": "76f00636-3d3e-4e06-993d-83265d2b42a7"
            },
            "outputs": [],
            "execution_count": null
        },
        {
            "cell_type": "code",
            "source": [
                "USE Northwinds2022TSQLV7;\n",
                "\n",
                "SELECT orderid,\n",
                "  YEAR(orderdate) AS orderyear,\n",
                "  YEAR(orderdate) + 1 AS nextyear\n",
                "FROM Sales.[Order];\n",
                ""
            ],
            "metadata": {
                "language": "sql",
                "azdata_cell_guid": "e35754d6-7c50-4a0c-9d59-30285593ddb8"
            },
            "outputs": [],
            "execution_count": null
        },
        {
            "cell_type": "code",
            "source": [
                "---------------------------------------------------------------------\n",
                "-- The ORDER BY Clause\n",
                "---------------------------------------------------------------------\n",
                "\n",
                "-- Listing 2-4: Query Demonstrating the ORDER BY Clause\n",
                "USE Northwinds2022TSQLV7;\n",
                "\n",
                "SELECT EmployeeId, YEAR(orderdate) AS orderyear, COUNT(*) AS numorders\n",
                "FROM Sales.[Order]\n",
                "WHERE CustomerId = 71\n",
                "GROUP BY EmployeeId, YEAR(orderdate)\n",
                "HAVING COUNT(*) > 1\n",
                "ORDER BY EmployeeId, orderyear;\n",
                ""
            ],
            "metadata": {
                "language": "sql",
                "azdata_cell_guid": "46e8dda9-9be4-4df0-9dc9-24ad2e06f94e"
            },
            "outputs": [],
            "execution_count": null
        },
        {
            "cell_type": "code",
            "source": [
                "USE Northwinds2022TSQLV7;\n",
                "\n",
                "SELECT EmployeeId, EmployeeFirstName, EmployeeLastName, EmployeeCountry\n",
                "FROM HumanResources.Employee\n",
                "ORDER BY hiredate;\n",
                "\n",
                "/*\n",
                "SELECT DISTINCT country\n",
                "FROM HumanResources.Employee\n",
                "ORDER BY empid;\n",
                "*/\n",
                ""
            ],
            "metadata": {
                "language": "sql",
                "azdata_cell_guid": "42ea18a4-ff90-4e5b-ad48-8ea3ee067bd0"
            },
            "outputs": [],
            "execution_count": null
        },
        {
            "cell_type": "code",
            "source": [
                "---------------------------------------------------------------------\n",
                "-- The TOP and OFFSET-FETCH Filters\n",
                "---------------------------------------------------------------------\n",
                ""
            ],
            "metadata": {
                "language": "sql",
                "azdata_cell_guid": "ffa860ff-bf8e-4f86-b719-45c524780e33",
                "tags": [
                    "hide_input"
                ]
            },
            "outputs": [],
            "execution_count": null
        },
        {
            "cell_type": "code",
            "source": [
                "---------------------------------------------------------------------\n",
                "-- The TOP Filter\n",
                "---------------------------------------------------------------------\n",
                "\n",
                "-- Listing 2-5: Query Demonstrating the TOP Option\n",
                "USE Northwinds2022TSQLV7;\n",
                "\n",
                "SELECT TOP (5) orderid, orderdate, CustomerId, EmployeeId\n",
                "FROM Sales.[Order]\n",
                "ORDER BY orderdate DESC;\n",
                ""
            ],
            "metadata": {
                "language": "sql",
                "azdata_cell_guid": "b0b4d962-e405-4c2d-90d4-bd0d8bf80709"
            },
            "outputs": [],
            "execution_count": null
        },
        {
            "cell_type": "code",
            "source": [
                "USE Northwinds2022TSQLV7;\n",
                "\n",
                "SELECT TOP (1) PERCENT orderid, orderdate, CustomerId, EmployeeId\n",
                "FROM Sales.[Order]\n",
                "ORDER BY orderdate DESC;\n",
                ""
            ],
            "metadata": {
                "language": "sql",
                "azdata_cell_guid": "76e7b4a2-5bc1-4c1c-9c97-2128788fa856"
            },
            "outputs": [],
            "execution_count": null
        },
        {
            "cell_type": "code",
            "source": [
                "-- Listing 2-6: Query Demonstrating TOP with Unique ORDER BY List\n",
                "USE Northwinds2022TSQLV7;\n",
                "\n",
                "SELECT TOP (5) orderid, orderdate, CustomerId, EmployeeId\n",
                "FROM Sales.[Order]\n",
                "ORDER BY orderdate DESC, orderid DESC;\n",
                ""
            ],
            "metadata": {
                "language": "sql",
                "azdata_cell_guid": "8ae890e3-5ae9-4672-b0d9-a05ec0b52b3f"
            },
            "outputs": [],
            "execution_count": null
        },
        {
            "cell_type": "code",
            "source": [
                "USE Northwinds2022TSQLV7;\n",
                "\n",
                "SELECT TOP (5) WITH TIES orderid, orderdate, CustomerId, EmployeeId\n",
                "FROM Sales.[Order]\n",
                "ORDER BY orderdate DESC;\n",
                ""
            ],
            "metadata": {
                "language": "sql",
                "azdata_cell_guid": "86e3b259-25ee-4a41-a900-12a4517efacf"
            },
            "outputs": [],
            "execution_count": null
        },
        {
            "cell_type": "code",
            "source": [
                "---------------------------------------------------------------------\n",
                "-- The OFFSET-FETCH Filter\n",
                "---------------------------------------------------------------------\n",
                "\n",
                "-- OFFSET-FETCH\n",
                "USE Northwinds2022TSQLV7;\n",
                "\n",
                "SELECT orderid, orderdate, CustomerId, EmployeeId\n",
                "FROM Sales.[Order]\n",
                "ORDER BY orderdate, orderid\n",
                "OFFSET 50 ROWS FETCH NEXT 25 ROWS ONLY;\n",
                ""
            ],
            "metadata": {
                "language": "sql",
                "azdata_cell_guid": "62094fea-866c-4ad7-91c2-a4fe72517b60"
            },
            "outputs": [],
            "execution_count": null
        },
        {
            "cell_type": "code",
            "source": [
                "---------------------------------------------------------------------\n",
                "-- A Quick Look at Window Functions\n",
                "---------------------------------------------------------------------\n",
                "\n",
                "-- SELECT orderid, CustomerId, val,\n",
                "--   ROW_NUMBER() OVER(PARTITION BY CustomerId\n",
                "--                     ORDER BY val) AS rownum\n",
                "-- FROM Sales.[Order]\n",
                "-- ORDER BY CustomerId, val;\n",
                ""
            ],
            "metadata": {
                "language": "sql",
                "azdata_cell_guid": "2a6259aa-c10a-4c30-ab58-b6359fedddbf"
            },
            "outputs": [],
            "execution_count": null
        },
        {
            "cell_type": "code",
            "source": [
                "---------------------------------------------------------------------\n",
                "-- Predicates and Operators\n",
                "---------------------------------------------------------------------\n",
                "\n",
                "-- Predicates: IN, BETWEEN, LIKE\n",
                "USE Northwinds2022TSQLV7;\n",
                "\n",
                "SELECT orderid, EmployeeId, orderdate\n",
                "FROM Sales.[Order]\n",
                "WHERE orderid IN(10248, 10249, 10250);\n",
                ""
            ],
            "metadata": {
                "language": "sql",
                "azdata_cell_guid": "bc3b8b75-f61a-42fc-8b5f-6d7d3e77f41f"
            },
            "outputs": [],
            "execution_count": null
        },
        {
            "cell_type": "code",
            "source": [
                "USE Northwinds2022TSQLV7;\n",
                "\n",
                "SELECT orderid, EmployeeId, orderdate\n",
                "FROM Sales.[Order]\n",
                "WHERE orderid BETWEEN 10300 AND 10310;\n",
                ""
            ],
            "metadata": {
                "language": "sql",
                "azdata_cell_guid": "361c0356-41f0-4aa3-a1c1-24e215f347cc"
            },
            "outputs": [],
            "execution_count": null
        },
        {
            "cell_type": "code",
            "source": [
                "USE Northwinds2022TSQLV7;\n",
                "\n",
                "SELECT EmployeeId, EmployeeFirstName, EmployeeLastName\n",
                "FROM HumanResources.Employee\n",
                "WHERE EmployeeLastName LIKE N'D%';\n",
                ""
            ],
            "metadata": {
                "language": "sql",
                "azdata_cell_guid": "abf176b7-0bb5-4d4b-bfaa-3de8cafc15aa"
            },
            "outputs": [],
            "execution_count": null
        },
        {
            "cell_type": "code",
            "source": [
                "-- Comparison operators: =, >, <, >=, <=, <>, !=, !>, !< \n",
                "USE Northwinds2022TSQLV7;\n",
                "\n",
                "SELECT orderid, EmployeeId, orderdate\n",
                "FROM Sales.[Order]\n",
                "WHERE orderdate >= '20160101';\n",
                ""
            ],
            "metadata": {
                "language": "sql",
                "azdata_cell_guid": "20e193f0-f4f0-419c-a6b4-fe42002ca316"
            },
            "outputs": [],
            "execution_count": null
        },
        {
            "cell_type": "code",
            "source": [
                "-- Logical operators: AND, OR, NOT\n",
                "USE Northwinds2022TSQLV7;\n",
                "\n",
                "SELECT orderid, EmployeeId, orderdate\n",
                "FROM Sales.[Order]\n",
                "WHERE orderdate >= '20160101'\n",
                "  AND EmployeeId IN(1, 3, 5);\n",
                ""
            ],
            "metadata": {
                "language": "sql",
                "azdata_cell_guid": "f7f3856c-9588-46f0-9c21-290cf21e7ce6"
            },
            "outputs": [],
            "execution_count": null
        },
        {
            "cell_type": "code",
            "source": [
                "-- Arithmetic operators: +, -, *, /, %\n",
                "USE Northwinds2022TSQLV7;\n",
                "\n",
                "SELECT orderid, productid, Quantity, unitprice, DiscountPercentage,\n",
                "  Quantity * unitprice * (1 - DiscountPercentage) AS val\n",
                "FROM Sales.OrderDetail;\n",
                ""
            ],
            "metadata": {
                "language": "sql",
                "azdata_cell_guid": "408685e9-3100-4ca7-aebb-db4a021806f5"
            },
            "outputs": [],
            "execution_count": null
        },
        {
            "cell_type": "code",
            "source": [
                "-- Operator Precedence\n",
                "\n",
                "-- AND precedes OR\n",
                "USE Northwinds2022TSQLV7;\n",
                "\n",
                "SELECT orderid, CustomerId, EmployeeId, orderdate\n",
                "FROM Sales.[Order]\n",
                "WHERE\n",
                "        CustomerId = 1\n",
                "    AND EmployeeId IN(1, 3, 5)\n",
                "    OR  CustomerId = 85\n",
                "    AND EmployeeId IN(2, 4, 6);\n",
                ""
            ],
            "metadata": {
                "language": "sql",
                "azdata_cell_guid": "e1d730bc-cf25-49b6-890f-7bb14d6ff239"
            },
            "outputs": [],
            "execution_count": null
        },
        {
            "cell_type": "code",
            "source": [
                "-- Equivalent to\n",
                "USE Northwinds2022TSQLV7;\n",
                "\n",
                "SELECT orderid, CustomerId, EmployeeId, orderdate\n",
                "FROM Sales.[Order]\n",
                "WHERE\n",
                "      ( CustomerId = 1\n",
                "        AND EmployeeId IN(1, 3, 5) )\n",
                "    OR\n",
                "      ( CustomerId = 85\n",
                "        AND EmployeeId IN(2, 4, 6) );\n",
                "\n",
                ""
            ],
            "metadata": {
                "language": "sql",
                "azdata_cell_guid": "02042f96-1ed4-4396-8ce2-f180a8d7eeb0"
            },
            "outputs": [],
            "execution_count": null
        },
        {
            "cell_type": "code",
            "source": [
                "USE Northwinds2022TSQLV7;\n",
                "\n",
                "-- *, / precedes +, -\n",
                "SELECT 10 + 2 * 3   -- 16\n",
                ""
            ],
            "metadata": {
                "language": "sql",
                "azdata_cell_guid": "8de59182-8c0e-42ea-a1d0-c7bc9e12b226"
            },
            "outputs": [],
            "execution_count": null
        },
        {
            "cell_type": "code",
            "source": [
                "USE Northwinds2022TSQLV7;\n",
                "\n",
                "SELECT (10 + 2) * 3 -- 36\n",
                ""
            ],
            "metadata": {
                "language": "sql",
                "azdata_cell_guid": "77996d64-eeab-41a7-8b7a-ce4cb813b837"
            },
            "outputs": [],
            "execution_count": null
        },
        {
            "cell_type": "code",
            "source": [
                "---------------------------------------------------------------------\n",
                "-- CASE Expression\n",
                "---------------------------------------------------------------------\n",
                "\n",
                "-- Simple\n",
                "-- SELECT productid, productname, categoryid,\n",
                "--   CASE categoryid\n",
                "--     WHEN 1 THEN 'Beverages'\n",
                "--     WHEN 2 THEN 'Condiments'\n",
                "--     WHEN 3 THEN 'Confections'\n",
                "--     WHEN 4 THEN 'Dairy Products'\n",
                "--     WHEN 5 THEN 'Grains/Cereals'\n",
                "--     WHEN 6 THEN 'Meat/Poultry'\n",
                "--     WHEN 7 THEN 'Produce'\n",
                "--     WHEN 8 THEN 'Seafood'\n",
                "--     ELSE 'Unknown Category'\n",
                "--   END AS categoryname\n",
                "-- FROM Production.Product;\n",
                "\n",
                "-- -- Searched\n",
                "-- SELECT orderid, CustomerId, val,\n",
                "--   CASE \n",
                "--     WHEN val < 1000.00                   THEN 'Less than 1000'\n",
                "--     WHEN val BETWEEN 1000.00 AND 3000.00 THEN 'Between 1000 and 3000'\n",
                "--     WHEN val > 3000.00                   THEN 'More than 3000'\n",
                "--     ELSE 'Unknown'\n",
                "--   END AS valuecategory\n",
                "-- FROM Sales.OrderValues;\n",
                ""
            ],
            "metadata": {
                "language": "sql",
                "azdata_cell_guid": "24c59c88-d283-4a66-a0f1-22c050e0ac5e"
            },
            "outputs": [],
            "execution_count": null
        },
        {
            "cell_type": "code",
            "source": [
                "---------------------------------------------------------------------\n",
                "-- NULLs\n",
                "---------------------------------------------------------------------\n",
                "USE Northwinds2022TSQLV7;\n",
                "\n",
                "\n",
                "SELECT CustomerId, CustomerCountry, CustomerRegion, CustomerCity\n",
                "FROM Sales.Customer\n",
                "WHERE CustomerRegion = N'WA';\n",
                ""
            ],
            "metadata": {
                "language": "sql",
                "azdata_cell_guid": "debb6db0-fdea-4fbc-bc80-5eb61fc2e069"
            },
            "outputs": [],
            "execution_count": null
        },
        {
            "cell_type": "code",
            "source": [
                "USE Northwinds2022TSQLV7;\n",
                "\n",
                "SELECT CustomerId, CustomerCountry, CustomerRegion, CustomerCity\n",
                "FROM Sales.Customer\n",
                "WHERE CustomerRegion <> N'WA';\n",
                ""
            ],
            "metadata": {
                "language": "sql",
                "azdata_cell_guid": "62cf58dc-b2f8-4044-90c3-d6acb28185ce"
            },
            "outputs": [],
            "execution_count": null
        },
        {
            "cell_type": "code",
            "source": [
                "USE Northwinds2022TSQLV7;\n",
                "\n",
                "SELECT CustomerId, CustomerCountry, CustomerRegion, CustomerCity\n",
                "FROM Sales.Customer\n",
                "WHERE CustomerRegion = NULL;\n",
                ""
            ],
            "metadata": {
                "language": "sql",
                "azdata_cell_guid": "67253b93-8bc8-44cf-a2ab-37e5df09f89f"
            },
            "outputs": [],
            "execution_count": null
        },
        {
            "cell_type": "code",
            "source": [
                "USE Northwinds2022TSQLV7;\n",
                "\n",
                "SELECT CustomerId, CustomerCountry, CustomerRegion, CustomerCity\n",
                "FROM Sales.Customer\n",
                "WHERE CustomerRegion IS NULL;\n",
                ""
            ],
            "metadata": {
                "language": "sql",
                "azdata_cell_guid": "6e4cc000-e513-4741-9bef-2460f343b7db"
            },
            "outputs": [],
            "execution_count": null
        },
        {
            "cell_type": "code",
            "source": [
                "USE Northwinds2022TSQLV7;\n",
                "\n",
                "SELECT CustomerId, CustomerCountry, CustomerRegion, CustomerCity\n",
                "FROM Sales.Customer\n",
                "WHERE CustomerRegion <> N'WA'\n",
                "   OR CustomerRegion IS NULL;\n",
                ""
            ],
            "metadata": {
                "language": "sql",
                "azdata_cell_guid": "e0a1cef3-8ed5-4bdf-be29-d595981cfadb"
            },
            "outputs": [],
            "execution_count": null
        },
        {
            "cell_type": "code",
            "source": [
                "---------------------------------------------------------------------\n",
                "-- All-At-Once Operations\n",
                "---------------------------------------------------------------------\n",
                "\n",
                "/*\n",
                "SELECT \n",
                "  orderid, \n",
                "  YEAR(orderdate) AS orderyear, \n",
                "  orderyear + 1 AS nextyear\n",
                "FROM Sales.Orders;\n",
                "*/\n",
                "\n",
                "/*\n",
                "SELECT col1, col2\n",
                "FROM dbo.T1\n",
                "WHERE col1 <> 0 AND col2/col1 > 2;\n",
                "*/\n",
                "\n",
                "/*\n",
                "SELECT col1, col2\n",
                "FROM dbo.T1\n",
                "WHERE\n",
                "  CASE\n",
                "    WHEN col1 = 0 THEN 'no' -- or 'yes' if row should be returned\n",
                "    WHEN col2/col1 > 2 THEN 'yes'\n",
                "    ELSE 'no'\n",
                "  END = 'yes';\n",
                "*/\n",
                "\n",
                "/*\n",
                "SELECT col1, col2\n",
                "FROM dbo.T1\n",
                "WHERE (col1 > 0 AND col2 > 2*col1) OR (col1 < 0 AND col2 < 2*col1); \n",
                "*/\n",
                ""
            ],
            "metadata": {
                "language": "sql",
                "azdata_cell_guid": "edc9f99e-ed3c-4c1d-a614-831384868392",
                "tags": []
            },
            "outputs": [],
            "execution_count": null
        },
        {
            "cell_type": "code",
            "source": [
                "---------------------------------------------------------------------\n",
                "-- Working with Character Data\n",
                "---------------------------------------------------------------------\n",
                ""
            ],
            "metadata": {
                "language": "sql",
                "azdata_cell_guid": "f3170ddf-eb60-4571-8781-7139d317955f",
                "tags": [
                    "hide_input"
                ]
            },
            "outputs": [],
            "execution_count": null
        },
        {
            "cell_type": "code",
            "source": [
                "---------------------------------------------------------------------\n",
                "-- Collation\n",
                "---------------------------------------------------------------------\n",
                "\n",
                "USE Northwinds2022TSQLV7;\n",
                "\n",
                "SELECT name, description\n",
                "FROM sys.fn_helpcollations();\n",
                ""
            ],
            "metadata": {
                "language": "sql",
                "azdata_cell_guid": "12105c63-db60-4864-b515-0bf8351947fc"
            },
            "outputs": [],
            "execution_count": null
        },
        {
            "cell_type": "code",
            "source": [
                "USE Northwinds2022TSQLV7;\n",
                "\n",
                "SELECT EmployeeId, EmployeeFirstName, EmployeeLastName\n",
                "FROM HumanResources.Employee\n",
                "WHERE EmployeeLastName = N'davis';\n",
                ""
            ],
            "metadata": {
                "language": "sql",
                "azdata_cell_guid": "0b878ebd-ff43-4f07-be94-140ea731498d"
            },
            "outputs": [],
            "execution_count": null
        },
        {
            "cell_type": "code",
            "source": [
                "USE Northwinds2022TSQLV7;\n",
                "\n",
                "SELECT EmployeeId, EmployeeFirstName, EmployeeLastName\n",
                "FROM HumanResources.Employee\n",
                "WHERE EmployeeLastName COLLATE Latin1_General_CS_AS = N'davis';\n",
                ""
            ],
            "metadata": {
                "language": "sql",
                "azdata_cell_guid": "d4eb58ee-b6df-424c-be43-a0f576ec9d8c"
            },
            "outputs": [],
            "execution_count": null
        },
        {
            "cell_type": "code",
            "source": [
                "---------------------------------------------------------------------\n",
                "-- Operators and Functions\n",
                "---------------------------------------------------------------------\n",
                "\n",
                "-- Concatenation\n",
                "USE Northwinds2022TSQLV7;\n",
                "\n",
                "SELECT EmployeeId, EmployeeFirstName + N' ' + EmployeeLastName AS fullname\n",
                "FROM HumanResources.Employee;\n",
                ""
            ],
            "metadata": {
                "language": "sql",
                "azdata_cell_guid": "fa3f3716-ca3f-4b91-981a-69bfa8c9540a"
            },
            "outputs": [],
            "execution_count": null
        },
        {
            "cell_type": "code",
            "source": [
                "-- Listing 2-7: Query Demonstrating String Concatenation\n",
                "USE Northwinds2022TSQLV7;\n",
                "\n",
                "SELECT CustomerId, CustomerCountry, CustomerRegion, CustomerCity,\n",
                "  CustomerCountry + N',' + CustomerRegion + N',' + CustomerCity AS location\n",
                "FROM Sales.Customer;\n",
                ""
            ],
            "metadata": {
                "language": "sql",
                "azdata_cell_guid": "74884dbd-91d8-4dc0-a35b-9eb10a4eaa14"
            },
            "outputs": [],
            "execution_count": null
        },
        {
            "cell_type": "code",
            "source": [
                "-- convert NULL to empty string\n",
                "USE Northwinds2022TSQLV7;\n",
                "\n",
                "SELECT CustomerId, CustomerCountry, CustomerRegion, CustomerCity,\n",
                "  CustomerCountry + COALESCE( N',' + CustomerRegion, N'') + N',' + CustomerCity AS location\n",
                "FROM Sales.Customer;\n",
                ""
            ],
            "metadata": {
                "language": "sql",
                "azdata_cell_guid": "69e65fee-cf52-4d84-b418-45e4031a368b"
            },
            "outputs": [],
            "execution_count": null
        },
        {
            "cell_type": "code",
            "source": [
                "-- using the CONCAT function\n",
                "USE Northwinds2022TSQLV7;\n",
                "\n",
                "SELECT CustomerId, CustomerCountry, CustomerRegion, CustomerCity,\n",
                "  CONCAT(CustomerCountry, N',' + CustomerRegion, N',' + CustomerCity) AS location\n",
                "FROM Sales.Customer;\n",
                ""
            ],
            "metadata": {
                "language": "sql",
                "azdata_cell_guid": "be829ae2-68a4-454b-8335-ec6320c01ad3"
            },
            "outputs": [],
            "execution_count": null
        },
        {
            "cell_type": "code",
            "source": [
                "-- Functions\n",
                "SELECT SUBSTRING('abcde', 1, 3); -- 'abc'\n",
                ""
            ],
            "metadata": {
                "language": "sql",
                "azdata_cell_guid": "6ca2315d-47ee-4319-9ffa-6df6ceab5361"
            },
            "outputs": [],
            "execution_count": null
        },
        {
            "cell_type": "code",
            "source": [
                "SELECT RIGHT('abcde', 3); -- 'cde'\n",
                ""
            ],
            "metadata": {
                "language": "sql",
                "azdata_cell_guid": "7ae8419c-c821-4f58-ab34-bf8b7c76de56"
            },
            "outputs": [],
            "execution_count": null
        },
        {
            "cell_type": "code",
            "source": [
                "SELECT LEN(N'abcde'); -- 5\n",
                ""
            ],
            "metadata": {
                "language": "sql",
                "azdata_cell_guid": "37a193dc-4da4-4304-951b-323610a697a6"
            },
            "outputs": [],
            "execution_count": null
        },
        {
            "cell_type": "code",
            "source": [
                "SELECT DATALENGTH(N'abcde'); -- 10\n",
                ""
            ],
            "metadata": {
                "language": "sql",
                "azdata_cell_guid": "e1a94cf1-2c3c-4c58-ae41-633b257bb4a7"
            },
            "outputs": [],
            "execution_count": null
        },
        {
            "cell_type": "code",
            "source": [
                "SELECT CHARINDEX(' ','Itzik Ben-Gan'); -- 6\n",
                ""
            ],
            "metadata": {
                "language": "sql",
                "azdata_cell_guid": "9a667d88-3820-42b6-837b-4017e816352c"
            },
            "outputs": [],
            "execution_count": null
        },
        {
            "cell_type": "code",
            "source": [
                "SELECT PATINDEX('%[0-9]%', 'abcd123efgh'); -- 5\n",
                ""
            ],
            "metadata": {
                "language": "sql",
                "azdata_cell_guid": "1ba773d7-8ef1-4d36-a2c8-318f43f71f80"
            },
            "outputs": [],
            "execution_count": null
        },
        {
            "cell_type": "code",
            "source": [
                "SELECT REPLACE('1-a 2-b', '-', ':'); -- '1:a 2:b'\n",
                ""
            ],
            "metadata": {
                "language": "sql",
                "azdata_cell_guid": "52a10d62-d26b-45d1-94a5-510f3b161649"
            },
            "outputs": [],
            "execution_count": null
        },
        {
            "cell_type": "code",
            "source": [
                "SELECT EmployeeId, EmployeeLastName,\n",
                "  LEN(EmployeeLastName) - LEN(REPLACE(EmployeeLastName, 'e', '')) AS numoccur\n",
                "FROM HumanResources.Employee;\n",
                ""
            ],
            "metadata": {
                "language": "sql",
                "azdata_cell_guid": "9cf2af65-4d36-497a-8906-e84f7c4cda2d"
            },
            "outputs": [],
            "execution_count": null
        },
        {
            "cell_type": "code",
            "source": [
                "SELECT REPLICATE('abc', 3); -- 'abcabcabc'\n",
                ""
            ],
            "metadata": {
                "language": "sql",
                "azdata_cell_guid": "bc9d7992-e868-4cff-afa0-4765301fac17"
            },
            "outputs": [],
            "execution_count": null
        },
        {
            "cell_type": "code",
            "source": [
                "SELECT supplierid,\n",
                "  RIGHT(REPLICATE('0', 9) + CAST(supplierid AS VARCHAR(10)),\n",
                "        10) AS strsupplierid\n",
                "FROM Production.Supplier;\n",
                ""
            ],
            "metadata": {
                "language": "sql",
                "azdata_cell_guid": "0d6e5b52-8585-4270-86a1-d0888d761361"
            },
            "outputs": [],
            "execution_count": null
        },
        {
            "cell_type": "code",
            "source": [
                "SELECT STUFF('xyz', 2, 1, 'abc'); -- 'xabcz'\n",
                ""
            ],
            "metadata": {
                "language": "sql",
                "azdata_cell_guid": "2d1ead0d-34fb-4a90-a76f-7c46be89acb0"
            },
            "outputs": [],
            "execution_count": null
        },
        {
            "cell_type": "code",
            "source": [
                "SELECT UPPER('Itzik Ben-Gan'); -- 'ITZIK BEN-GAN'\n",
                ""
            ],
            "metadata": {
                "language": "sql",
                "azdata_cell_guid": "864d3af0-e2dd-474f-86d7-d21be3a5f704"
            },
            "outputs": [],
            "execution_count": null
        },
        {
            "cell_type": "code",
            "source": [
                "SELECT LOWER('Itzik Ben-Gan'); -- 'itzik ben-gan'\n",
                ""
            ],
            "metadata": {
                "language": "sql",
                "azdata_cell_guid": "9f62faf3-bc70-4b41-803c-3615a68380d2"
            },
            "outputs": [],
            "execution_count": null
        },
        {
            "cell_type": "code",
            "source": [
                "SELECT RTRIM(LTRIM('   abc   ')); -- 'abc'\n",
                ""
            ],
            "metadata": {
                "language": "sql",
                "azdata_cell_guid": "0b2fdc0c-8106-43a1-9501-64a4bad00eed"
            },
            "outputs": [],
            "execution_count": null
        },
        {
            "cell_type": "code",
            "source": [
                "SELECT FORMAT(1759, '0000000000'); -- '0000001759'\n",
                ""
            ],
            "metadata": {
                "language": "sql",
                "azdata_cell_guid": "a7453ff9-df7b-4bec-8116-02575f0c385e"
            },
            "outputs": [],
            "execution_count": null
        },
        {
            "cell_type": "code",
            "source": [
                "-- COMPRESS\n",
                "SELECT COMPRESS(N'This is my cv. Imagine it was much longer.');\n",
                "\n",
                "/*\n",
                "INSERT INTO dbo.EmployeeCVs( empid, cv )\n",
                "  VALUES( @empid, COMPRESS(@cv) );\n",
                "*/\n",
                ""
            ],
            "metadata": {
                "language": "sql",
                "azdata_cell_guid": "9978b0f0-dbda-4fab-8c6a-9875a8ac04da"
            },
            "outputs": [],
            "execution_count": null
        },
        {
            "cell_type": "code",
            "source": [
                "-- DECOMPRESS\n",
                "SELECT DECOMPRESS(COMPRESS(N'This is my cv. Imagine it was much longer.'));\n",
                ""
            ],
            "metadata": {
                "language": "sql",
                "azdata_cell_guid": "706b291a-6c6a-4d57-82b1-ae2f7e2abced"
            },
            "outputs": [],
            "execution_count": null
        },
        {
            "cell_type": "code",
            "source": [
                "SELECT\n",
                "  CAST(\n",
                "    DECOMPRESS(COMPRESS(N'This is my cv. Imagine it was much longer.'))\n",
                "      AS NVARCHAR(MAX));\n",
                ""
            ],
            "metadata": {
                "language": "sql",
                "azdata_cell_guid": "833d7b99-f799-4e63-bc99-a6f1dc47811f"
            },
            "outputs": [],
            "execution_count": null
        },
        {
            "cell_type": "code",
            "source": [
                "/*\n",
                "SELECT empid, CAST(DECOMPRESS(cv) AS NVARCHAR(MAX)) AS cv\n",
                "FROM dbo.EmployeeCVs;\n",
                "*/\n",
                ""
            ],
            "metadata": {
                "language": "sql",
                "azdata_cell_guid": "1c681279-49be-4835-8df9-4722dd96a020"
            },
            "outputs": [],
            "execution_count": null
        },
        {
            "cell_type": "code",
            "source": [
                "-- STRING_SPLIT\n",
                "SELECT CAST(value AS INT) AS myvalue\n",
                "FROM STRING_SPLIT('10248,10249,10250', ',') AS S;\n",
                ""
            ],
            "metadata": {
                "language": "sql",
                "azdata_cell_guid": "98c7758a-a810-41b9-b3f0-b0ad8b32bac8"
            },
            "outputs": [],
            "execution_count": null
        },
        {
            "cell_type": "code",
            "source": [
                "/*\n",
                "myvalue\n",
                "-----------\n",
                "10248\n",
                "10249\n",
                "10250\n",
                "*/\n",
                ""
            ],
            "metadata": {
                "language": "sql",
                "azdata_cell_guid": "d572d499-421b-4c06-b4e9-67ff80c54f86"
            },
            "outputs": [],
            "execution_count": null
        },
        {
            "cell_type": "code",
            "source": [
                "---------------------------------------------------------------------\n",
                "-- LIKE Predicate\n",
                "---------------------------------------------------------------------\n",
                "\n",
                "-- Last name starts with D\n",
                "SELECT EmployeeId, EmployeeLastName\n",
                "FROM HumanResources.Employee\n",
                "WHERE EmployeeLastName LIKE N'D%';\n",
                ""
            ],
            "metadata": {
                "language": "sql",
                "azdata_cell_guid": "2f7e61b1-55d0-49a5-b174-83ae996c4e9f"
            },
            "outputs": [],
            "execution_count": null
        },
        {
            "cell_type": "code",
            "source": [
                "-- Second character in last name is e\n",
                "SELECT EmployeeId, EmployeeLastName\n",
                "FROM HumanResources.Employee\n",
                "WHERE EmployeeLastName LIKE N'_e%';\n",
                ""
            ],
            "metadata": {
                "language": "sql",
                "azdata_cell_guid": "3caa32fe-3961-40e3-92d7-6e37a404e820"
            },
            "outputs": [],
            "execution_count": null
        },
        {
            "cell_type": "code",
            "source": [
                "-- First character in last name is A, B or C\n",
                "SELECT EmployeeId, EmployeeLastName\n",
                "FROM HumanResources.Employee\n",
                "WHERE EmployeeLastName LIKE N'[ABC]%';\n",
                ""
            ],
            "metadata": {
                "language": "sql",
                "azdata_cell_guid": "cfc9448b-7768-4aaf-93f3-ac76c926ff3a"
            },
            "outputs": [],
            "execution_count": null
        },
        {
            "cell_type": "code",
            "source": [
                "-- First character in last name is A through E\n",
                "SELECT EmployeeId, EmployeeLastName\n",
                "FROM HumanResources.Employee\n",
                "WHERE EmployeeLastName LIKE N'[A-E]%';\n",
                ""
            ],
            "metadata": {
                "language": "sql",
                "azdata_cell_guid": "d60c9ac6-6347-4a7a-a13f-fb5a3e6ec3e1"
            },
            "outputs": [],
            "execution_count": null
        },
        {
            "cell_type": "code",
            "source": [
                "-- First character in last name is not A through E\n",
                "SELECT EmployeeId, EmployeeLastName\n",
                "FROM HumanResources.Employee\n",
                "WHERE EmployeeLastName LIKE N'[^A-E]%';\n",
                ""
            ],
            "metadata": {
                "language": "sql",
                "azdata_cell_guid": "5e2c3c32-343f-417c-829d-d5427b9fcb6d"
            },
            "outputs": [],
            "execution_count": null
        },
        {
            "cell_type": "code",
            "source": [
                "---------------------------------------------------------------------\n",
                "-- Working with Date and Time Data\n",
                "---------------------------------------------------------------------\n",
                "\n",
                "-- Literals\n",
                "SELECT orderid, CustomerId, EmployeeId, orderdate\n",
                "FROM Sales.[Order]\n",
                "WHERE orderdate = '20160212';\n",
                ""
            ],
            "metadata": {
                "language": "sql",
                "azdata_cell_guid": "340dfede-6514-43bc-a087-6d7b4c090493"
            },
            "outputs": [],
            "execution_count": null
        },
        {
            "cell_type": "code",
            "source": [
                "SELECT orderid, CustomerId, EmployeeId, orderdate\n",
                "FROM Sales.[Order]\n",
                "WHERE orderdate = CAST('20160212' AS DATE);\n",
                ""
            ],
            "metadata": {
                "language": "sql",
                "azdata_cell_guid": "55d1fcde-b911-4335-83f8-7343ab1b768e"
            },
            "outputs": [],
            "execution_count": null
        },
        {
            "cell_type": "code",
            "source": [
                "-- Language dependent\n",
                "SET LANGUAGE British;\n",
                "SELECT CAST('02/12/2016' AS DATE);\n",
                ""
            ],
            "metadata": {
                "language": "sql",
                "azdata_cell_guid": "fc995058-7d2b-4f12-bc15-92719fba8d9c"
            },
            "outputs": [],
            "execution_count": null
        },
        {
            "cell_type": "code",
            "source": [
                "SET LANGUAGE us_english;\n",
                "SELECT CAST('02/12/2016' AS DATE);\n",
                ""
            ],
            "metadata": {
                "language": "sql",
                "azdata_cell_guid": "bda4a755-610e-426c-b20e-83e2207c8cb9"
            },
            "outputs": [],
            "execution_count": null
        },
        {
            "cell_type": "code",
            "source": [
                "-- Language neutral\n",
                "SET LANGUAGE British;\n",
                "SELECT CAST('20160212' AS DATE);\n",
                ""
            ],
            "metadata": {
                "language": "sql",
                "azdata_cell_guid": "97e23e8e-a059-4e34-a10d-729218c23ba0"
            },
            "outputs": [],
            "execution_count": null
        },
        {
            "cell_type": "code",
            "source": [
                "SET LANGUAGE us_english;\n",
                "SELECT CAST('20160212' AS DATE);\n",
                ""
            ],
            "metadata": {
                "language": "sql",
                "azdata_cell_guid": "f868c3f1-d40b-4dc8-b6cc-d4ff0ee6f828"
            },
            "outputs": [],
            "execution_count": null
        },
        {
            "cell_type": "code",
            "source": [
                "SELECT CONVERT(DATE, '02/12/2016', 101);\n",
                ""
            ],
            "metadata": {
                "language": "sql",
                "azdata_cell_guid": "0f377be7-2a99-45a1-863a-c8992c99d0dd"
            },
            "outputs": [],
            "execution_count": null
        },
        {
            "cell_type": "code",
            "source": [
                "SELECT CONVERT(DATE, '02/12/2016', 103);\n",
                ""
            ],
            "metadata": {
                "language": "sql",
                "azdata_cell_guid": "95508960-499b-429f-a1ca-352bbce2b4c6"
            },
            "outputs": [],
            "execution_count": null
        },
        {
            "cell_type": "code",
            "source": [
                "SELECT PARSE('02/12/2016' AS DATE USING 'en-US');\n",
                ""
            ],
            "metadata": {
                "language": "sql",
                "azdata_cell_guid": "a1589334-00f4-4b9f-92e7-7397b42774e8"
            },
            "outputs": [],
            "execution_count": null
        },
        {
            "cell_type": "code",
            "source": [
                "SELECT PARSE('02/12/2016' AS DATE USING 'en-GB');\n",
                "\n",
                "-- Working with Date and Time Separately\n",
                ""
            ],
            "metadata": {
                "language": "sql",
                "azdata_cell_guid": "eccb6627-6f3c-4537-b4fb-f470a0266a2e"
            },
            "outputs": [],
            "execution_count": null
        },
        {
            "cell_type": "code",
            "source": [
                "-- Create Sales.Orders2 with orderdate as DATETIME by copying data from Sales.Orders\n",
                "DROP TABLE IF EXISTS Sales.Orders2;\n",
                "\n",
                "SELECT orderid, CustomerId, EmployeeId, CAST(orderdate AS DATETIME) AS orderdate\n",
                "INTO Sales.Orders2\n",
                "FROM Sales.[Order];\n",
                ""
            ],
            "metadata": {
                "language": "sql",
                "azdata_cell_guid": "093d8f11-a920-4cb5-8faf-75d3486a9c8d"
            },
            "outputs": [],
            "execution_count": null
        },
        {
            "cell_type": "code",
            "source": [
                "-- Query Sales.Orders2\n",
                "SELECT orderid, CustomerId, EmployeeId, orderdate\n",
                "FROM Sales.Orders2\n",
                "WHERE orderdate = '20160212';\n",
                ""
            ],
            "metadata": {
                "language": "sql",
                "azdata_cell_guid": "e349e3b4-bd2b-4fda-b0a8-0c454df9b09c"
            },
            "outputs": [],
            "execution_count": null
        },
        {
            "cell_type": "code",
            "source": [
                "ALTER TABLE Sales.Orders2\n",
                "  ADD CONSTRAINT CHK_Orders2_orderdate\n",
                "  CHECK( CONVERT(CHAR(12), orderdate, 114) = '00:00:00:000' );\n",
                ""
            ],
            "metadata": {
                "language": "sql",
                "azdata_cell_guid": "d2d2b3ea-cd38-4d7e-a1c5-8ed2902929c9"
            },
            "outputs": [],
            "execution_count": null
        },
        {
            "cell_type": "code",
            "source": [
                "SELECT orderid, CustomerId, EmployeeId, orderdate\n",
                "FROM Sales.Orders2\n",
                "WHERE orderdate >= '20160212'\n",
                "  AND orderdate < '20160213';\n",
                ""
            ],
            "metadata": {
                "language": "sql",
                "azdata_cell_guid": "c8693737-9ebe-49c2-ae44-1be2b6a61085"
            },
            "outputs": [],
            "execution_count": null
        },
        {
            "cell_type": "code",
            "source": [
                "SELECT CAST('12:30:15.123' AS DATETIME);\n",
                ""
            ],
            "metadata": {
                "language": "sql",
                "azdata_cell_guid": "b353125f-63cd-4d57-9f2b-3c1981b2e484"
            },
            "outputs": [],
            "execution_count": null
        },
        {
            "cell_type": "code",
            "source": [
                "-- Cleanup\n",
                "DROP TABLE IF EXISTS Sales.Orders2;\n",
                ""
            ],
            "metadata": {
                "language": "sql",
                "azdata_cell_guid": "0c7f87d7-d1d8-4fbb-ae1a-4008d979cc4f"
            },
            "outputs": [],
            "execution_count": null
        },
        {
            "cell_type": "code",
            "source": [
                "SELECT orderid, CustomerId, EmployeeId, orderdate\n",
                "FROM Sales.[Order]\n",
                "WHERE YEAR(orderdate) = 2015;\n",
                ""
            ],
            "metadata": {
                "language": "sql",
                "azdata_cell_guid": "cb52d4e2-042b-4db9-b5af-31c593255eef"
            },
            "outputs": [],
            "execution_count": null
        },
        {
            "cell_type": "code",
            "source": [
                "SELECT orderid, CustomerId, EmployeeId, orderdate\n",
                "FROM Sales.[Order]\n",
                "WHERE orderdate >= '20150101' AND orderdate < '20160101';\n",
                ""
            ],
            "metadata": {
                "language": "sql",
                "azdata_cell_guid": "fc81ecb4-8114-4a4e-abee-25bba834f459"
            },
            "outputs": [],
            "execution_count": null
        },
        {
            "cell_type": "code",
            "source": [
                "SELECT orderid, CustomerId, EmployeeId, orderdate\n",
                "FROM Sales.[Order]\n",
                "WHERE YEAR(orderdate) = 2016 AND MONTH(orderdate) = 2;\n",
                ""
            ],
            "metadata": {
                "language": "sql",
                "azdata_cell_guid": "fa9430ac-0dec-4749-bd10-de037181be96"
            },
            "outputs": [],
            "execution_count": null
        },
        {
            "cell_type": "code",
            "source": [
                "SELECT orderid, CustomerId, EmployeeId, orderdate\n",
                "FROM Sales.[Order]\n",
                "WHERE orderdate >= '20160201' AND orderdate < '20160301';\n",
                ""
            ],
            "metadata": {
                "language": "sql",
                "azdata_cell_guid": "390038fd-9409-4b1d-a128-bb6f9b076021"
            },
            "outputs": [],
            "execution_count": null
        },
        {
            "cell_type": "code",
            "source": [
                "-- Functions\n",
                "\n",
                "-- Current Date and Time\n",
                "SELECT\n",
                "  GETDATE()           AS [GETDATE],\n",
                "  CURRENT_TIMESTAMP   AS [CURRENT_TIMESTAMP],\n",
                "  GETUTCDATE()        AS [GETUTCDATE],\n",
                "  SYSDATETIME()       AS [SYSDATETIME],\n",
                "  SYSUTCDATETIME()    AS [SYSUTCDATETIME],\n",
                "  SYSDATETIMEOFFSET() AS [SYSDATETIMEOFFSET];\n",
                ""
            ],
            "metadata": {
                "language": "sql",
                "azdata_cell_guid": "2cf30c87-083e-415c-a583-7b0ad1c27010"
            },
            "outputs": [],
            "execution_count": null
        },
        {
            "cell_type": "code",
            "source": [
                "SELECT\n",
                "  CAST(SYSDATETIME() AS DATE) AS [current_date],\n",
                "  CAST(SYSDATETIME() AS TIME) AS [current_time];\n",
                ""
            ],
            "metadata": {
                "language": "sql",
                "azdata_cell_guid": "f158e626-df1f-4eb3-b816-9d149279ce95"
            },
            "outputs": [],
            "execution_count": null
        },
        {
            "cell_type": "code",
            "source": [
                "-- The CAST, CONVERT and PARSE Functions and their TRY_ Counterparts\n",
                "SELECT CAST('20160212' AS DATE);\n",
                "SELECT CAST(SYSDATETIME() AS DATE);\n",
                "SELECT CAST(SYSDATETIME() AS TIME);\n",
                ""
            ],
            "metadata": {
                "language": "sql",
                "azdata_cell_guid": "baa21f0a-dce4-4b08-a4cb-24553fe0ae52"
            },
            "outputs": [],
            "execution_count": null
        },
        {
            "cell_type": "code",
            "source": [
                "SELECT CONVERT(CHAR(8), CURRENT_TIMESTAMP, 112);\n",
                "SELECT CONVERT(DATETIME, CONVERT(CHAR(8), CURRENT_TIMESTAMP, 112), 112);\n",
                ""
            ],
            "metadata": {
                "language": "sql",
                "azdata_cell_guid": "4f043f41-2ade-4489-a778-20d10abe3533"
            },
            "outputs": [],
            "execution_count": null
        },
        {
            "cell_type": "code",
            "source": [
                "SELECT CONVERT(CHAR(12), CURRENT_TIMESTAMP, 114);\n",
                "SELECT CONVERT(DATETIME, CONVERT(CHAR(12), CURRENT_TIMESTAMP, 114), 114);\n",
                ""
            ],
            "metadata": {
                "language": "sql",
                "azdata_cell_guid": "42f97d5b-4c5a-4d08-86a5-d9c47cef72c0"
            },
            "outputs": [],
            "execution_count": null
        },
        {
            "cell_type": "code",
            "source": [
                "SELECT PARSE('02/12/2016' AS DATETIME USING 'en-US');\n",
                "SELECT PARSE('02/12/2016' AS DATETIME USING 'en-GB');\n",
                ""
            ],
            "metadata": {
                "language": "sql",
                "azdata_cell_guid": "db256a5a-196d-4c73-bf50-9f68db11dbdf"
            },
            "outputs": [],
            "execution_count": null
        },
        {
            "cell_type": "code",
            "source": [
                "-- SWITCHOFFSET\n",
                "SELECT SWITCHOFFSET(SYSDATETIMEOFFSET(), '-05:00');\n",
                "SELECT SWITCHOFFSET(SYSDATETIMEOFFSET(), '+00:00');\n",
                ""
            ],
            "metadata": {
                "language": "sql",
                "azdata_cell_guid": "483fa8ad-947a-4c53-bbe2-f4f8b3334819"
            },
            "outputs": [],
            "execution_count": null
        },
        {
            "cell_type": "code",
            "source": [
                "-- TODATETIMEOFFSET\n",
                "/*\n",
                "UPDATE dbo.T1\n",
                "  SET dto = TODATETIMEOFFSET(dt, theoffset);\n",
                "*/\n",
                ""
            ],
            "metadata": {
                "language": "sql",
                "azdata_cell_guid": "e831aa67-d5b8-41ca-aa13-139eaa830085"
            },
            "outputs": [],
            "execution_count": null
        },
        {
            "cell_type": "code",
            "source": [
                "-- AT TIME ZONE\n",
                "\n",
                "SELECT name, current_utc_offset, is_currently_dst\n",
                "FROM sys.time_zone_info;\n",
                ""
            ],
            "metadata": {
                "language": "sql",
                "azdata_cell_guid": "f5846908-36fe-4e59-8a2b-6514c0cfb4e7"
            },
            "outputs": [],
            "execution_count": null
        },
        {
            "cell_type": "code",
            "source": [
                "-- Converting non-datetimeoffset values\n",
                "-- behavior similar to TODATETIMEOFFSET\n",
                "SELECT\n",
                "  CAST('20160212 12:00:00.0000000' AS DATETIME2)\n",
                "    AT TIME ZONE 'Pacific Standard Time' AS val1,\n",
                "  CAST('20160812 12:00:00.0000000' AS DATETIME2)\n",
                "    AT TIME ZONE 'Pacific Standard Time' AS val2;\n",
                ""
            ],
            "metadata": {
                "language": "sql",
                "azdata_cell_guid": "42075a87-5fda-41bb-8eb9-5eda0c25f903"
            },
            "outputs": [],
            "execution_count": null
        },
        {
            "cell_type": "code",
            "source": [
                "-- Converting datetimeoffset values\n",
                "-- behavior similar to SWITCHOFFSET\n",
                "SELECT\n",
                "  CAST('20160212 12:00:00.0000000 -05:00' AS DATETIMEOFFSET)\n",
                "    AT TIME ZONE 'Pacific Standard Time' AS val1,\n",
                "  CAST('20160812 12:00:00.0000000 -04:00' AS DATETIMEOFFSET)\n",
                "    AT TIME ZONE 'Pacific Standard Time' AS val2;\n",
                ""
            ],
            "metadata": {
                "language": "sql",
                "azdata_cell_guid": "bc389f14-4c04-46f7-b4b5-7106968f18fb"
            },
            "outputs": [],
            "execution_count": null
        },
        {
            "cell_type": "code",
            "source": [
                "-- DATEADD\n",
                "SELECT DATEADD(year, 1, '20160212');\n",
                ""
            ],
            "metadata": {
                "language": "sql",
                "azdata_cell_guid": "ae8f0a40-b392-4da3-9e08-1516ad172fde"
            },
            "outputs": [],
            "execution_count": null
        },
        {
            "cell_type": "code",
            "source": [
                "-- DATEDIFF\n",
                "SELECT DATEDIFF(day, '20150212', '20160212');\n",
                ""
            ],
            "metadata": {
                "language": "sql",
                "azdata_cell_guid": "724ff153-145c-4180-9f3d-669aef3f9d7b"
            },
            "outputs": [],
            "execution_count": null
        },
        {
            "cell_type": "code",
            "source": [
                "SELECT DATEDIFF_BIG(millisecond, '00010101', '20160212');\n",
                ""
            ],
            "metadata": {
                "language": "sql",
                "azdata_cell_guid": "92fa984a-62d6-4a0a-8643-970867cfd861"
            },
            "outputs": [],
            "execution_count": null
        },
        {
            "cell_type": "code",
            "source": [
                "SELECT\n",
                "  DATEADD(\n",
                "    day, \n",
                "    DATEDIFF(day, '19000101', SYSDATETIME()), '19000101');\n",
                ""
            ],
            "metadata": {
                "language": "sql",
                "azdata_cell_guid": "204f1fef-8b60-4e12-89bb-ca1ff76d7b76"
            },
            "outputs": [],
            "execution_count": null
        },
        {
            "cell_type": "code",
            "source": [
                "SELECT\n",
                "  DATEADD(\n",
                "    month, \n",
                "    DATEDIFF(month, '19000101', SYSDATETIME()), '19000101');\n",
                ""
            ],
            "metadata": {
                "language": "sql",
                "azdata_cell_guid": "c18598f3-ec7b-4eee-9abd-98593eb3ff16"
            },
            "outputs": [],
            "execution_count": null
        },
        {
            "cell_type": "code",
            "source": [
                "SELECT\n",
                "  DATEADD(\n",
                "    year, \n",
                "    DATEDIFF(year, '18991231', SYSDATETIME()), '18991231');\n",
                ""
            ],
            "metadata": {
                "language": "sql",
                "azdata_cell_guid": "42025944-5e97-4b7d-8ae7-774cbee0798f"
            },
            "outputs": [],
            "execution_count": null
        },
        {
            "cell_type": "code",
            "source": [
                "-- DATEPART\n",
                "\n",
                "SELECT DATEPART(month, '20160212');\n",
                ""
            ],
            "metadata": {
                "language": "sql",
                "azdata_cell_guid": "6e62032a-b68a-4207-a858-9f949bac3e34"
            },
            "outputs": [],
            "execution_count": null
        },
        {
            "cell_type": "code",
            "source": [
                "-- DAY, MONTH, YEAR\n",
                "\n",
                "SELECT\n",
                "  DAY('20160212') AS theday,\n",
                "  MONTH('20160212') AS themonth,\n",
                "  YEAR('20160212') AS theyear;\n",
                ""
            ],
            "metadata": {
                "language": "sql",
                "azdata_cell_guid": "36edac61-2d6f-4139-8d86-4c0bd1004642"
            },
            "outputs": [],
            "execution_count": null
        },
        {
            "cell_type": "code",
            "source": [
                "-- DATENAME\n",
                "SELECT DATENAME(month, '20160212');\n",
                ""
            ],
            "metadata": {
                "language": "sql",
                "azdata_cell_guid": "7d8556bc-d298-4da3-83b6-e3dfabe0a8a5"
            },
            "outputs": [],
            "execution_count": null
        },
        {
            "cell_type": "code",
            "source": [
                "SELECT DATENAME(year, '20160212');\n",
                ""
            ],
            "metadata": {
                "language": "sql",
                "azdata_cell_guid": "73a3996f-6df2-4853-9073-0aa46384c369"
            },
            "outputs": [],
            "execution_count": null
        },
        {
            "cell_type": "code",
            "source": [
                "-- ISDATE\n",
                "SELECT ISDATE('20160212');\n",
                "SELECT ISDATE('20160230');\n",
                ""
            ],
            "metadata": {
                "language": "sql",
                "azdata_cell_guid": "d40d033d-032c-4ef2-91b3-aac8b84481f8"
            },
            "outputs": [],
            "execution_count": null
        },
        {
            "cell_type": "code",
            "source": [
                "-- fromparts\n",
                "SELECT\n",
                "  DATEFROMPARTS(2016, 02, 12),\n",
                "  DATETIME2FROMPARTS(2016, 02, 12, 13, 30, 5, 1, 7),\n",
                "  DATETIMEFROMPARTS(2016, 02, 12, 13, 30, 5, 997),\n",
                "  DATETIMEOFFSETFROMPARTS(2016, 02, 12, 13, 30, 5, 1, -8, 0, 7),\n",
                "  SMALLDATETIMEFROMPARTS(2016, 02, 12, 13, 30),\n",
                "  TIMEFROMPARTS(13, 30, 5, 1, 7);\n",
                ""
            ],
            "metadata": {
                "language": "sql",
                "azdata_cell_guid": "b595bf0a-58b6-4f9d-a7e1-516111a598f5"
            },
            "outputs": [],
            "execution_count": null
        },
        {
            "cell_type": "code",
            "source": [
                "-- EOMONTH\n",
                "SELECT EOMONTH(SYSDATETIME());\n",
                ""
            ],
            "metadata": {
                "language": "sql",
                "azdata_cell_guid": "02a49f3c-3db1-4966-8dc2-ce672fc7e72e"
            },
            "outputs": [],
            "execution_count": null
        },
        {
            "cell_type": "code",
            "source": [
                "-- orders placed on last day of month\n",
                "SELECT orderid, orderdate, CustomerId, EmployeeId\n",
                "FROM Sales.[Order]\n",
                "WHERE orderdate = EOMONTH(orderdate);\n",
                ""
            ],
            "metadata": {
                "language": "sql",
                "azdata_cell_guid": "1a3f5065-223f-4914-82a5-a3cca17b6f35"
            },
            "outputs": [],
            "execution_count": null
        },
        {
            "cell_type": "code",
            "source": [
                "---------------------------------------------------------------------\n",
                "-- Querying Metadata\n",
                "---------------------------------------------------------------------\n",
                "\n",
                "-- Catalog Views\n",
                "USE TSQLV6;\n",
                ""
            ],
            "metadata": {
                "language": "sql",
                "azdata_cell_guid": "f469df13-c7bb-4136-9da6-03df4f3f44a9"
            },
            "outputs": [],
            "execution_count": null
        },
        {
            "cell_type": "code",
            "source": [
                "SELECT SCHEMA_NAME(schema_id) AS table_schema_name, name AS table_name\n",
                "FROM sys.tables;\n",
                ""
            ],
            "metadata": {
                "language": "sql",
                "azdata_cell_guid": "a3495375-1826-4043-a30f-3e9fec5a502b"
            },
            "outputs": [],
            "execution_count": null
        },
        {
            "cell_type": "code",
            "source": [
                "SELECT \n",
                "  name AS column_name,\n",
                "  TYPE_NAME(system_type_id) AS column_type,\n",
                "  max_length,\n",
                "  collation_name,\n",
                "  is_nullable\n",
                "FROM sys.columns\n",
                "WHERE object_id = OBJECT_ID(N'Sales.[Order]');\n",
                ""
            ],
            "metadata": {
                "language": "sql",
                "azdata_cell_guid": "a25b6540-e94f-4d65-bcd9-06da6511cf44"
            },
            "outputs": [],
            "execution_count": null
        },
        {
            "cell_type": "code",
            "source": [
                "-- Information Schema Views\n",
                "SELECT TABLE_SCHEMA, TABLE_NAME\n",
                "FROM INFORMATION_SCHEMA.TABLES\n",
                "WHERE TABLE_TYPE = N'BASE TABLE';\n",
                ""
            ],
            "metadata": {
                "language": "sql",
                "azdata_cell_guid": "d886d7b6-6100-43d3-a6af-e9e7de501763"
            },
            "outputs": [],
            "execution_count": null
        },
        {
            "cell_type": "code",
            "source": [
                "SELECT \n",
                "  COLUMN_NAME, DATA_TYPE, CHARACTER_MAXIMUM_LENGTH, \n",
                "  COLLATION_NAME, IS_NULLABLE\n",
                "FROM INFORMATION_SCHEMA.COLUMNS\n",
                "WHERE TABLE_SCHEMA = N'Sales'\n",
                "  AND TABLE_NAME = N'Orders';\n",
                ""
            ],
            "metadata": {
                "language": "sql",
                "azdata_cell_guid": "3f2ad76b-3760-40be-b373-bba2f4816663"
            },
            "outputs": [],
            "execution_count": null
        },
        {
            "cell_type": "code",
            "source": [
                "-- System Stored Procedures and Functions\n",
                "EXEC sys.sp_tables;\n",
                ""
            ],
            "metadata": {
                "language": "sql",
                "azdata_cell_guid": "2393d773-1b23-4ed6-be59-a56136bd9368"
            },
            "outputs": [],
            "execution_count": null
        },
        {
            "cell_type": "code",
            "source": [
                "EXEC sys.sp_help\n",
                "  @objname = N'Sales.[Order]';\n",
                ""
            ],
            "metadata": {
                "language": "sql",
                "azdata_cell_guid": "5788bc17-67ec-498b-8222-18da065fb482"
            },
            "outputs": [],
            "execution_count": null
        },
        {
            "cell_type": "code",
            "source": [
                "EXEC sys.sp_columns\n",
                "  @table_name = N'Orders',\n",
                "  @table_owner = N'Sales';\n",
                ""
            ],
            "metadata": {
                "language": "sql",
                "azdata_cell_guid": "a25e8944-b736-4fb7-997a-1c5fb732e60f"
            },
            "outputs": [],
            "execution_count": null
        },
        {
            "cell_type": "code",
            "source": [
                "EXEC sys.sp_helpconstraint\n",
                "  @objname = N'Sales.[Order]';\n",
                ""
            ],
            "metadata": {
                "language": "sql",
                "azdata_cell_guid": "76cfdfa6-a041-4fb7-a2c9-0c9acd0bd1b9"
            },
            "outputs": [],
            "execution_count": null
        },
        {
            "cell_type": "code",
            "source": [
                "SELECT \n",
                "  SERVERPROPERTY('ProductLevel');\n",
                ""
            ],
            "metadata": {
                "language": "sql",
                "azdata_cell_guid": "21bb500b-eae1-4866-bdb1-f48485b5b8f0"
            },
            "outputs": [],
            "execution_count": null
        },
        {
            "cell_type": "code",
            "source": [
                "SELECT\n",
                "  DATABASEPROPERTYEX(N'TSQLV4', 'Collation');\n",
                ""
            ],
            "metadata": {
                "language": "sql",
                "azdata_cell_guid": "50206757-1c05-4a56-9ab0-508e20bc3fe7"
            },
            "outputs": [
                {
                    "output_type": "display_data",
                    "data": {
                        "text/html": "(1 row affected)"
                    },
                    "metadata": {}
                },
                {
                    "output_type": "display_data",
                    "data": {
                        "text/html": "Total execution time: 00:00:00.035"
                    },
                    "metadata": {}
                },
                {
                    "output_type": "execute_result",
                    "metadata": {},
                    "execution_count": 1,
                    "data": {
                        "application/vnd.dataresource+json": {
                            "schema": {
                                "fields": [
                                    {
                                        "name": "(No column name)"
                                    }
                                ]
                            },
                            "data": [
                                {
                                    "(No column name)": "NULL"
                                }
                            ]
                        },
                        "text/html": [
                            "<table>",
                            "<tr><th>(No column name)</th></tr>",
                            "<tr><td>NULL</td></tr>",
                            "</table>"
                        ]
                    }
                }
            ],
            "execution_count": 1
        },
        {
            "cell_type": "code",
            "source": [
                "SELECT \n",
                "  OBJECTPROPERTY(OBJECT_ID(N'Sales.[Order]'), 'TableHasPrimaryKey');\n",
                ""
            ],
            "metadata": {
                "language": "sql",
                "azdata_cell_guid": "edf8baa6-e471-4203-a844-5d0e1f7aec3d"
            },
            "outputs": [],
            "execution_count": null
        },
        {
            "cell_type": "code",
            "source": [
                "SELECT\n",
                "  COLUMNPROPERTY(OBJECT_ID(N'Sales.[Order]'), N'shipcountry', 'AllowsNull');"
            ],
            "metadata": {
                "language": "sql",
                "azdata_cell_guid": "83a92d7b-890a-41bb-9f17-a9952b2a290d"
            },
            "outputs": [],
            "execution_count": null
        }
    ]
}